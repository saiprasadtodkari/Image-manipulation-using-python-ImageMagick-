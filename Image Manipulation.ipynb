{
 "cells": [
  {
   "cell_type": "code",
   "execution_count": null,
   "metadata": {},
   "outputs": [],
   "source": [
    "from wand.image import Image "
   ]
  },
  {
   "cell_type": "markdown",
   "metadata": {},
   "source": [
    "Grayscale Effect"
   ]
  },
  {
   "cell_type": "code",
   "execution_count": null,
   "metadata": {},
   "outputs": [],
   "source": [
    "#img is instance of this img\n",
    "with Image(filename='C:/Users/saiprasad todkari/Desktop/505018.jpg') as img:\n",
    "    img.type = 'grayscale';\n",
    "    img.save(filename='grayscale.jpg')"
   ]
  },
  {
   "cell_type": "markdown",
   "metadata": {},
   "source": [
    "Emboss Effect"
   ]
  },
  {
   "cell_type": "code",
   "execution_count": null,
   "metadata": {},
   "outputs": [],
   "source": [
    "with Image(filename='C:/Users/saiprasad todkari/Desktop/505018.jpg') as img:\n",
    "    img.emboss(radius = 3.0, sigma = 1.75) \n",
    "  \n",
    "    # SAVE FINAL IMAGE \n",
    "    img.save(filename =\"emboss.jpeg\")"
   ]
  },
  {
   "cell_type": "markdown",
   "metadata": {},
   "source": [
    "Properties of image "
   ]
  },
  {
   "cell_type": "code",
   "execution_count": null,
   "metadata": {},
   "outputs": [],
   "source": [
    "with Image(filename='C:/Users/saiprasad todkari/Desktop/505018.jpg') as img:\n",
    "    print('width of img =', img.width)\n",
    "    print('height of img =', img.height)\n",
    "    print('size of img =', img.size)\n",
    "    print('format of img =' ,img.format)"
   ]
  },
  {
   "cell_type": "markdown",
   "metadata": {},
   "source": [
    "Rotating image "
   ]
  },
  {
   "cell_type": "code",
   "execution_count": null,
   "metadata": {},
   "outputs": [],
   "source": [
    "with Image(filename='C:/Users/saiprasad todkari/Desktop/505018.jpg') as img:\n",
    "#rotate horizontally\n",
    "    img.flop()\n",
    "    img.save(filename='horizontal.jpg')\n"
   ]
  },
  {
   "cell_type": "markdown",
   "metadata": {},
   "source": [
    "Rotate using rotate"
   ]
  },
  {
   "cell_type": "code",
   "execution_count": null,
   "metadata": {},
   "outputs": [],
   "source": [
    "from wand.image import Image\n",
    "with Image(filename='grayscale.jpg') as img:\n",
    "        img.rotate(90)\n",
    "        img.save(filename='transform-rotated-90.jpg')"
   ]
  },
  {
   "cell_type": "markdown",
   "metadata": {},
   "source": [
    "Resize"
   ]
  },
  {
   "cell_type": "code",
   "execution_count": null,
   "metadata": {},
   "outputs": [],
   "source": [
    "with Image(filename='C:/Users/saiprasad todkari/Desktop/505018.jpg') as img:\n",
    "    img.resize(180,200)\n",
    "    img.save(filename='resize.jpg')"
   ]
  },
  {
   "cell_type": "markdown",
   "metadata": {},
   "source": [
    "Cropping image"
   ]
  },
  {
   "cell_type": "code",
   "execution_count": null,
   "metadata": {},
   "outputs": [],
   "source": [
    "with Image(filename='C:/Users/saiprasad todkari/Desktop/505018.jpg') as img:\n",
    "    img.crop(0,0,1000,600)\n",
    "    img.save(filename='crop.jpg')"
   ]
  },
  {
   "cell_type": "markdown",
   "metadata": {},
   "source": [
    "Joining two images"
   ]
  },
  {
   "cell_type": "code",
   "execution_count": null,
   "metadata": {},
   "outputs": [],
   "source": [
    "with Image(filename='C:/Users/saiprasad todkari/Desktop/505018.jpg') as img1:\n",
    "    img1.resize(400,400)\n",
    "    with Image(filename='grayscale.jpg') as img2:\n",
    "        img2.resize(400,400)\n",
    "        with Image(width=img1.width*2,height=img2.width) as img:  \n",
    "            img.composite(image=img1,left=0,top=0)\n",
    "            img.composite(image=img2,left=img1.width,top=0)\n",
    "            img.save(filename='joining.jpg')"
   ]
  },
  {
   "cell_type": "markdown",
   "metadata": {},
   "source": [
    "Joining Diagonally"
   ]
  },
  {
   "cell_type": "code",
   "execution_count": null,
   "metadata": {},
   "outputs": [],
   "source": [
    "with Image(filename='C:/Users/saiprasad todkari/Desktop/505018.jpg') as img1:\n",
    "    img1.resize(400,400)\n",
    "    with Image(filename='grayscale.jpg') as img2:\n",
    "        img2.resize(400,400)\n",
    "        with Image(width=img1.width*2,height=img2.height*2) as img:  \n",
    "            img.composite(image=img1,left=0,top=0)\n",
    "            img.composite(image=img2,left=img1.width,top=img1.height)\n",
    "            img.save(filename='joining diagonally.jpg')"
   ]
  },
  {
   "cell_type": "markdown",
   "metadata": {},
   "source": [
    "Cropping method 2"
   ]
  },
  {
   "cell_type": "code",
   "execution_count": null,
   "metadata": {},
   "outputs": [],
   "source": [
    "with Image(filename='C:/Users/saiprasad todkari/Desktop/505018.jpg') as img:\n",
    "#img[:, :]        #--> just clone\n",
    "    img[:100, 200:]#--> equivalent to img[0:100, 200:img.height]\n",
    "    img.save(filename = 'cropped.jpg')"
   ]
  },
  {
   "cell_type": "markdown",
   "metadata": {},
   "source": [
    "Creating new image"
   ]
  },
  {
   "cell_type": "code",
   "execution_count": null,
   "metadata": {},
   "outputs": [],
   "source": [
    "\n",
    "from wand.image import Image\n",
    "with Image(width=200, height=100) as img:\n",
    "    img.save(filename='transparent.png')\n"
   ]
  },
  {
   "cell_type": "markdown",
   "metadata": {},
   "source": [
    "Changing format of image"
   ]
  },
  {
   "cell_type": "code",
   "execution_count": null,
   "metadata": {},
   "outputs": [],
   "source": [
    "with Image(filename='grayscale.jpg') as img:\n",
    "img.format = 'jpeg'"
   ]
  },
  {
   "cell_type": "markdown",
   "metadata": {},
   "source": [
    "MAKING A GIF IMAGE"
   ]
  },
  {
   "cell_type": "code",
   "execution_count": null,
   "metadata": {},
   "outputs": [],
   "source": [
    "from wand.image import Image\n",
    "\n",
    "with Image() as wand:\n",
    "    # Adding images in sequence\n",
    "    with Image(filename='C:/Users/saiprasad todkari/Desktop/505018.jpg') as first:\n",
    "        wand.sequence.append(first)\n",
    "    with Image(filename='emboss.jpeg') as second:\n",
    "        wand.sequence.append(second)\n",
    "    with Image(filename='grayscale.jpg') as third:\n",
    "        wand.sequence.append(third)\n",
    "    # creating delay in images\n",
    "    for cursor in range(3):\n",
    "        with wand.sequence[cursor] as frame:\n",
    "            frame.delay = 10 * (cursor + 1)\n",
    "    # Set layer type\n",
    "    wand.type = 'optimize'\n",
    "    wand.save(filename='animated1.gif')"
   ]
  },
  {
   "cell_type": "code",
   "execution_count": null,
   "metadata": {},
   "outputs": [],
   "source": []
  },
  {
   "cell_type": "code",
   "execution_count": null,
   "metadata": {},
   "outputs": [],
   "source": []
  }
 ],
 "metadata": {
  "kernelspec": {
   "display_name": "Python 3",
   "language": "python",
   "name": "python3"
  },
  "language_info": {
   "codemirror_mode": {
    "name": "ipython",
    "version": 3
   },
   "file_extension": ".py",
   "mimetype": "text/x-python",
   "name": "python",
   "nbconvert_exporter": "python",
   "pygments_lexer": "ipython3",
   "version": "3.7.3"
  }
 },
 "nbformat": 4,
 "nbformat_minor": 2
}
